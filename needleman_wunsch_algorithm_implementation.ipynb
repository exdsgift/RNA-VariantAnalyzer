{
  "nbformat": 4,
  "nbformat_minor": 0,
  "metadata": {
    "colab": {
      "provenance": [],
      "authorship_tag": "ABX9TyMOvvLvfvT2i9LE2d0inw0E"
    },
    "kernelspec": {
      "name": "python3",
      "display_name": "Python 3"
    },
    "language_info": {
      "name": "python"
    }
  },
  "cells": [
    {
      "cell_type": "code",
      "execution_count": 5,
      "metadata": {
        "id": "oWcFDMdxVV70"
      },
      "outputs": [],
      "source": [
        "import numpy as np\n",
        "\n",
        "seq1 = \"ATTAAAGGTTTA\"\n",
        "seq2 = \"CAACTTTCGATC\"\n",
        "\n",
        "scores = np.zeros((len(seq1) + 1, len(seq2) + 1))\n",
        "scores[:,0] = [-1 * i for i in range(0, len(seq1)+1)]\n",
        "scores[0,:] = [-1 * i for i in range(0, len(seq2)+1)]"
      ]
    },
    {
      "cell_type": "code",
      "source": [
        "# implement needleman-wunsch\n",
        "\n",
        "pointers = {}\n",
        "indel_score = -1\n",
        "match_score = 1\n",
        "\n",
        "for i in range(1, len(seq1) * 2):\n",
        "    row_sel = i\n",
        "    col_sel = 1\n",
        "    while row_sel >= 1 and col_sel < len(seq2)+1:\n",
        "        if row_sel >= len(seq1)+1:\n",
        "            row_sel -= 1\n",
        "            col_sel += 1\n",
        "            continue\n",
        "        diag = scores[row_sel-1,col_sel-1]\n",
        "        left = scores[row_sel, col_sel-1] - 1\n",
        "        top = scores[row_sel-1, col_sel] - 1\n",
        "\n",
        "        if seq1[row_sel-1] == seq2[col_sel-1]:\n",
        "            diag += 1\n",
        "        else:\n",
        "            diag -= 1\n",
        "\n",
        "        combined = [diag, left, top]\n",
        "        max_combined = max(combined)\n",
        "        ind = [i for i, j in enumerate(combined) if j == max_combined]\n",
        "\n",
        "        pointer_key = \"{}_{}\".format(row_sel, col_sel)\n",
        "        pointers[pointer_key] = []\n",
        "        if 0 in ind:\n",
        "            pointers[pointer_key].append((row_sel-1,col_sel-1))\n",
        "        if 1 in ind:\n",
        "            pointers[pointer_key].append((row_sel, col_sel-1))\n",
        "        if 2 in ind:\n",
        "            pointers[pointer_key].append((row_sel-1, col_sel))\n",
        "\n",
        "        scores[row_sel, col_sel] = max_combined\n",
        "        row_sel -= 1\n",
        "        col_sel += 1"
      ],
      "metadata": {
        "id": "6IMs6ypDVw0D"
      },
      "execution_count": 6,
      "outputs": []
    },
    {
      "cell_type": "code",
      "source": [
        "alignments = []\n",
        "\n",
        "def parse_alignments(row, col, align1, align2):\n",
        "    pointer_index = \"{}_{}\".format(row, col)\n",
        "    if row==1 and col==1:\n",
        "        alignments.append([align1, align2])\n",
        "        return\n",
        "    if pointer_index not in pointers:\n",
        "        return\n",
        "\n",
        "    for pointer in pointers[pointer_index]:\n",
        "        if pointer[0] == row:\n",
        "            parse_alignments(pointer[0], pointer[1], \"_\" +  align1, seq2[col-1] + align2)\n",
        "        elif pointer[1] == col:\n",
        "            parse_alignments(pointer[0], pointer[1], seq1[row-1] + align1, \"_\" + align2)\n",
        "        else:\n",
        "            parse_alignments(pointer[0], pointer[1], seq1[row-1] + align1, seq2[col-1] + align2)"
      ],
      "metadata": {
        "id": "B_nVMoVzV8o_"
      },
      "execution_count": 7,
      "outputs": []
    },
    {
      "cell_type": "code",
      "source": [
        "parse_alignments(scores.shape[0]-1, scores.shape[1]-1, \"\", \"\")\n",
        "alignments"
      ],
      "metadata": {
        "colab": {
          "base_uri": "https://localhost:8080/"
        },
        "id": "jHD1RpqqV9_m",
        "outputId": "5af305f7-90bc-434d-f279-48780a7c0ebf"
      },
      "execution_count": 8,
      "outputs": [
        {
          "output_type": "execute_result",
          "data": {
            "text/plain": [
              "[['TTAAAGGTTT__A__', '___AA_CTTTCGATC'],\n",
              " ['TTAAAGGTTT__A__', '__A_A_CTTTCGATC'],\n",
              " ['TTAAAGGTTT__A__', '__AA__CTTTCGATC'],\n",
              " ['TTAAAGGTTT__A__', '___AAC_TTTCGATC'],\n",
              " ['TTAAAGGTTT__A__', '__A_AC_TTTCGATC'],\n",
              " ['TTAAAGGTTT__A__', '__AA_C_TTTCGATC'],\n",
              " ['TTAAAGGTTT__A__', '__AAC__TTTCGATC']]"
            ]
          },
          "metadata": {},
          "execution_count": 8
        }
      ]
    },
    {
      "cell_type": "code",
      "source": [
        "print(alignments[0][0])\n",
        "print(alignments[0][1])"
      ],
      "metadata": {
        "colab": {
          "base_uri": "https://localhost:8080/"
        },
        "id": "k4GIPxyIWFxE",
        "outputId": "fbfcdced-517f-4b87-df51-dfc41a0d75c0"
      },
      "execution_count": 9,
      "outputs": [
        {
          "output_type": "stream",
          "name": "stdout",
          "text": [
            "TTAAAGGTTT__A__\n",
            "___AA_CTTTCGATC\n"
          ]
        }
      ]
    }
  ]
}